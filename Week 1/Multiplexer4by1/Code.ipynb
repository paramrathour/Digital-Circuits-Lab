{
 "cells": [
  {
   "cell_type": "code",
   "execution_count": 1,
   "metadata": {},
   "outputs": [],
   "source": [
    "import numpy as np"
   ]
  },
  {
   "cell_type": "code",
   "execution_count": 2,
   "metadata": {},
   "outputs": [],
   "source": [
    "n = 7\n",
    "Max = 2**n"
   ]
  },
  {
   "cell_type": "code",
   "execution_count": 3,
   "metadata": {},
   "outputs": [],
   "source": [
    "def generateBinaryStrings(n, Max):\n",
    "    return [bin(i)[2:].zfill(n) for i in range(Max)]"
   ]
  },
  {
   "cell_type": "code",
   "execution_count": 4,
   "metadata": {},
   "outputs": [],
   "source": [
    "BinaryStrings = generateBinaryStrings(n, Max)"
   ]
  },
  {
   "cell_type": "code",
   "execution_count": 5,
   "metadata": {},
   "outputs": [],
   "source": [
    "def MuxOutput(string):\n",
    "    sizeofS = int(np.log2(len(string) + 1)-1)\n",
    "    Enable  = string[0]\n",
    "    S       = [i for i in string[1:sizeofS+1]]\n",
    "    Svalue  = int(''.join(S),2)\n",
    "    Inputs  = [i for i in string[sizeofS+1:]]\n",
    "    if (Enable == '0'):\n",
    "        return 0\n",
    "    else:\n",
    "        return int(string[1+sizeofS+Svalue])"
   ]
  },
  {
   "cell_type": "code",
   "execution_count": 6,
   "metadata": {},
   "outputs": [],
   "source": [
    "numberOfOutputBits = 1"
   ]
  },
  {
   "cell_type": "code",
   "execution_count": 7,
   "metadata": {},
   "outputs": [],
   "source": [
    "with open(\"Tracefile.txt\", \"w\") as file: \n",
    "    for i in range(Max):\n",
    "        I = BinaryStrings[i]\n",
    "        output = MuxOutput(I)\n",
    "        mask = '1'*numberOfOutputBits\n",
    "        O = bin(output)[2:].zfill(numberOfOutputBits)\n",
    "        str = \"{} {} {}\\n\".format(I, O, mask)\n",
    "        file.write(str)"
   ]
  }
 ],
 "metadata": {
  "kernelspec": {
   "display_name": "Python 3",
   "language": "python",
   "name": "python3"
  },
  "language_info": {
   "codemirror_mode": {
    "name": "ipython",
    "version": 3
   },
   "file_extension": ".py",
   "mimetype": "text/x-python",
   "name": "python",
   "nbconvert_exporter": "python",
   "pygments_lexer": "ipython3",
   "version": "3.7.6"
  }
 },
 "nbformat": 4,
 "nbformat_minor": 4
}
