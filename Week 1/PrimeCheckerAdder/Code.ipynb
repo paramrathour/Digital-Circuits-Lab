{
 "cells": [
  {
   "cell_type": "code",
   "execution_count": 1,
   "metadata": {},
   "outputs": [],
   "source": [
    "import numpy as np\n",
    "import sympy as sp"
   ]
  },
  {
   "cell_type": "code",
   "execution_count": 2,
   "metadata": {},
   "outputs": [],
   "source": [
    "n = 4\n",
    "Max = 2**n"
   ]
  },
  {
   "cell_type": "code",
   "execution_count": 3,
   "metadata": {},
   "outputs": [],
   "source": [
    "def generateBinaryStrings(n, Max):\n",
    "    return [bin(i)[2:].zfill(n) for i in range(Max)]"
   ]
  },
  {
   "cell_type": "code",
   "execution_count": 4,
   "metadata": {},
   "outputs": [],
   "source": [
    "BinaryStrings = generateBinaryStrings(n, Max)"
   ]
  },
  {
   "cell_type": "code",
   "execution_count": 5,
   "metadata": {},
   "outputs": [],
   "source": [
    "def addBinaryIntegers(a,b,n, Max):\n",
    "    c = a + b\n",
    "    carry = 0\n",
    "    if c > Max - 1:\n",
    "        c = c - Max\n",
    "        carry = 1\n",
    "    return c, carry"
   ]
  },
  {
   "cell_type": "code",
   "execution_count": 6,
   "metadata": {},
   "outputs": [],
   "source": [
    "def subBinaryIntegers(a,b,n, Max):\n",
    "    b = 2**n - b\n",
    "    c = a + b\n",
    "    carry = 0\n",
    "    if c > Max - 1:\n",
    "        c = c - Max\n",
    "        carry = 1\n",
    "    carry = 1 - carry\n",
    "    return c, carry"
   ]
  },
  {
   "cell_type": "code",
   "execution_count": 7,
   "metadata": {},
   "outputs": [
    {
     "data": {
      "text/plain": [
       "(4, 1)"
      ]
     },
     "execution_count": 7,
     "metadata": {},
     "output_type": "execute_result"
    }
   ],
   "source": [
    "subBinaryIntegers(2,14,n,Max)"
   ]
  },
  {
   "cell_type": "code",
   "execution_count": 8,
   "metadata": {},
   "outputs": [],
   "source": [
    "def PrimeCheck(string):\n",
    "    if (sp.isprime(int(string,2))):\n",
    "        return 1\n",
    "    else:\n",
    "        return 0"
   ]
  },
  {
   "cell_type": "code",
   "execution_count": 9,
   "metadata": {},
   "outputs": [],
   "source": [
    "numberOfOutputBits = 7"
   ]
  },
  {
   "cell_type": "code",
   "execution_count": 10,
   "metadata": {},
   "outputs": [],
   "source": [
    "with open(\"Tracefile.txt\", \"w\") as file: \n",
    "    for i in range(Max):\n",
    "        for j in range(Max):\n",
    "            I1 = BinaryStrings[i]\n",
    "            I2 = BinaryStrings[j]\n",
    "            opa = PrimeCheck(I1)\n",
    "            opb = PrimeCheck(I2)\n",
    "            if opa == 1 and opb == 1:\n",
    "                output, carry = subBinaryIntegers(i,j,n, Max)\n",
    "            elif opa == 1 or opb == 1:\n",
    "                output, carry = addBinaryIntegers(i,j,n, Max)\n",
    "            else:\n",
    "                output, carry = 0, 0\n",
    "            mask = '1'*numberOfOutputBits\n",
    "            o = bin(output)[2:].zfill(n)\n",
    "            str = \"{}{} {}{}{}{} {}\\n\".format(I1, I2, opa, opb, carry, o, mask)\n",
    "            file.write(str)"
   ]
  },
  {
   "cell_type": "code",
   "execution_count": null,
   "metadata": {},
   "outputs": [],
   "source": []
  },
  {
   "cell_type": "code",
   "execution_count": null,
   "metadata": {},
   "outputs": [],
   "source": []
  },
  {
   "cell_type": "code",
   "execution_count": null,
   "metadata": {},
   "outputs": [],
   "source": []
  }
 ],
 "metadata": {
  "kernelspec": {
   "display_name": "Python 3",
   "language": "python",
   "name": "python3"
  },
  "language_info": {
   "codemirror_mode": {
    "name": "ipython",
    "version": 3
   },
   "file_extension": ".py",
   "mimetype": "text/x-python",
   "name": "python",
   "nbconvert_exporter": "python",
   "pygments_lexer": "ipython3",
   "version": "3.7.6"
  }
 },
 "nbformat": 4,
 "nbformat_minor": 4
}
