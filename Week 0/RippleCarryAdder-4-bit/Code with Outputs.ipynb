{
 "cells": [
  {
   "cell_type": "code",
   "execution_count": 1,
   "metadata": {},
   "outputs": [
    {
     "data": {
      "text/plain": [
       "AddBinaryIntegers (generic function with 1 method)"
      ]
     },
     "execution_count": 1,
     "metadata": {},
     "output_type": "execute_result"
    }
   ],
   "source": [
    "function AddBinaryIntegers(a,b,n,max)\n",
    "    c = a+b\n",
    "    carry = 0\n",
    "    if c > max\n",
    "        c = c - max - 1\n",
    "        carry = 1\n",
    "    end\n",
    "    return c, carry\n",
    "end"
   ]
  },
  {
   "cell_type": "markdown",
   "metadata": {},
   "source": [
    "## Initial "
   ]
  },
  {
   "cell_type": "code",
   "execution_count": 2,
   "metadata": {},
   "outputs": [
    {
     "data": {
      "text/plain": [
       "255"
      ]
     },
     "execution_count": 2,
     "metadata": {},
     "output_type": "execute_result"
    }
   ],
   "source": [
    "n = 8\n",
    "max = 2^n - 1"
   ]
  },
  {
   "cell_type": "code",
   "execution_count": 3,
   "metadata": {},
   "outputs": [
    {
     "data": {
      "text/plain": [
       "256-element Array{Int64,1}:\n",
       "   0\n",
       "   1\n",
       "   2\n",
       "   3\n",
       "   4\n",
       "   5\n",
       "   6\n",
       "   7\n",
       "   8\n",
       "   9\n",
       "  10\n",
       "  11\n",
       "  12\n",
       "   ⋮\n",
       " 244\n",
       " 245\n",
       " 246\n",
       " 247\n",
       " 248\n",
       " 249\n",
       " 250\n",
       " 251\n",
       " 252\n",
       " 253\n",
       " 254\n",
       " 255"
      ]
     },
     "execution_count": 3,
     "metadata": {},
     "output_type": "execute_result"
    }
   ],
   "source": [
    "DecimalNumbers = [i for i in 0:max]"
   ]
  },
  {
   "cell_type": "code",
   "execution_count": 4,
   "metadata": {},
   "outputs": [],
   "source": [
    "open(\"tracefile.txt\",\"w\") do file\n",
    "    for i in DecimalNumbers\n",
    "        for j in DecimalNumbers\n",
    "            I1 = string(i, base = 2, pad=n)             # Convert i to binary string\n",
    "            I2 = string(j, base = 2, pad=n)             # Convert j to binary string\n",
    "            Output, OutputCarry = AddBinaryIntegers(i,j,n,max) # Function returns output and carry in Decimal\n",
    "            O, C = string(Output, base = 2, pad=n), string(OutputCarry, base = 2, pad=1) # Calculating output and carry in Binary\n",
    "            M = \"11111\"                                 # Mask bit\n",
    "            write(file,\"$I1$I2 $C$O $M\\n\")              # Writing to file\n",
    "        end\n",
    "    end\n",
    "end"
   ]
  }
 ],
 "metadata": {
  "kernelspec": {
   "display_name": "Julia 1.5.0",
   "language": "julia",
   "name": "julia-1.5"
  },
  "language_info": {
   "file_extension": ".jl",
   "mimetype": "application/julia",
   "name": "julia",
   "version": "1.5.0"
  }
 },
 "nbformat": 4,
 "nbformat_minor": 4
}
