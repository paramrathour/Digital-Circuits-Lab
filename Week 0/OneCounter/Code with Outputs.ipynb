{
 "cells": [
  {
   "cell_type": "code",
   "execution_count": 1,
   "metadata": {},
   "outputs": [
    {
     "data": {
      "text/plain": [
       "generateBinaryString (generic function with 1 method)"
      ]
     },
     "execution_count": 1,
     "metadata": {},
     "output_type": "execute_result"
    }
   ],
   "source": [
    "function generateBinaryString(n, max) # Strings of binary numbers from 00... to 11... of length n\n",
    "    return [string(i, base = 2, pad=n) for i in 0:max]\n",
    "end"
   ]
  },
  {
   "cell_type": "code",
   "execution_count": 2,
   "metadata": {},
   "outputs": [
    {
     "data": {
      "text/plain": [
       "OneCounter (generic function with 1 method)"
      ]
     },
     "execution_count": 2,
     "metadata": {},
     "output_type": "execute_result"
    }
   ],
   "source": [
    "function OneCounter(string)        # returns number of ones in decimal\n",
    "    count = 0\n",
    "    for i in string\n",
    "        if (i == '1')\n",
    "          count += 1  \n",
    "        end\n",
    "    end\n",
    "    return count\n",
    "end"
   ]
  },
  {
   "cell_type": "markdown",
   "metadata": {},
   "source": [
    "## Initial "
   ]
  },
  {
   "cell_type": "code",
   "execution_count": 3,
   "metadata": {},
   "outputs": [
    {
     "data": {
      "text/plain": [
       "256-element Array{String,1}:\n",
       " \"00000000\"\n",
       " \"00000001\"\n",
       " \"00000010\"\n",
       " \"00000011\"\n",
       " \"00000100\"\n",
       " \"00000101\"\n",
       " \"00000110\"\n",
       " \"00000111\"\n",
       " \"00001000\"\n",
       " \"00001001\"\n",
       " \"00001010\"\n",
       " \"00001011\"\n",
       " \"00001100\"\n",
       " ⋮\n",
       " \"11110100\"\n",
       " \"11110101\"\n",
       " \"11110110\"\n",
       " \"11110111\"\n",
       " \"11111000\"\n",
       " \"11111001\"\n",
       " \"11111010\"\n",
       " \"11111011\"\n",
       " \"11111100\"\n",
       " \"11111101\"\n",
       " \"11111110\"\n",
       " \"11111111\""
      ]
     },
     "execution_count": 3,
     "metadata": {},
     "output_type": "execute_result"
    }
   ],
   "source": [
    "n = 8\n",
    "max = 2^n - 1\n",
    "BinaryStrings = generateBinaryString(n, max)"
   ]
  },
  {
   "cell_type": "code",
   "execution_count": 4,
   "metadata": {
    "collapsed": true
   },
   "outputs": [],
   "source": [
    "open(\"TRACEFILE.txt\",\"w\") do file\n",
    "    for i in BinaryStrings\n",
    "        count = OneCounter(i)                    # Function returns number of ones in decimal\n",
    "        c = string(count, base = 2, pad = 4)     # Convert count to binary\n",
    "        M = \"1111\"                               # Mask bit\n",
    "        write(file,\"$i $c $M\\n\")                 # Writing in file\n",
    "    end\n",
    "end"
   ]
  }
 ],
 "metadata": {
  "kernelspec": {
   "display_name": "Julia 1.5.0",
   "language": "julia",
   "name": "julia-1.5"
  },
  "language_info": {
   "file_extension": ".jl",
   "mimetype": "application/julia",
   "name": "julia",
   "version": "1.5.0"
  }
 },
 "nbformat": 4,
 "nbformat_minor": 4
}
